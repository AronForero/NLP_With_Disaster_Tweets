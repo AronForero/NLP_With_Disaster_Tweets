{
 "cells": [
  {
   "cell_type": "code",
   "execution_count": 1,
   "metadata": {},
   "outputs": [],
   "source": [
    "import tensorflow as tf\n",
    "from tensorflow import keras\n",
    "from tensorflow.keras.preprocessing.text import Tokenizer\n",
    "from tensorflow.keras.preprocessing.sequence import pad_sequences\n",
    "\n",
    "import pandas as pd\n",
    "import numpy as np"
   ]
  },
  {
   "cell_type": "code",
   "execution_count": 2,
   "metadata": {},
   "outputs": [],
   "source": [
    "train_data = pd.read_csv('Data/train.csv')\n",
    "test_data = pd.read_csv('Data/test.csv')"
   ]
  },
  {
   "cell_type": "code",
   "execution_count": 50,
   "metadata": {},
   "outputs": [
    {
     "data": {
      "text/html": [
       "<div>\n",
       "<style scoped>\n",
       "    .dataframe tbody tr th:only-of-type {\n",
       "        vertical-align: middle;\n",
       "    }\n",
       "\n",
       "    .dataframe tbody tr th {\n",
       "        vertical-align: top;\n",
       "    }\n",
       "\n",
       "    .dataframe thead th {\n",
       "        text-align: right;\n",
       "    }\n",
       "</style>\n",
       "<table border=\"1\" class=\"dataframe\">\n",
       "  <thead>\n",
       "    <tr style=\"text-align: right;\">\n",
       "      <th></th>\n",
       "      <th>id</th>\n",
       "      <th>keyword</th>\n",
       "      <th>location</th>\n",
       "      <th>text</th>\n",
       "      <th>target</th>\n",
       "    </tr>\n",
       "  </thead>\n",
       "  <tbody>\n",
       "    <tr>\n",
       "      <th>0</th>\n",
       "      <td>1</td>\n",
       "      <td>NaN</td>\n",
       "      <td>NaN</td>\n",
       "      <td>Our Deeds are the Reason of this #earthquake M...</td>\n",
       "      <td>1</td>\n",
       "    </tr>\n",
       "    <tr>\n",
       "      <th>1</th>\n",
       "      <td>4</td>\n",
       "      <td>NaN</td>\n",
       "      <td>NaN</td>\n",
       "      <td>Forest fire near La Ronge Sask. Canada</td>\n",
       "      <td>1</td>\n",
       "    </tr>\n",
       "    <tr>\n",
       "      <th>2</th>\n",
       "      <td>5</td>\n",
       "      <td>NaN</td>\n",
       "      <td>NaN</td>\n",
       "      <td>All residents asked to 'shelter in place' are ...</td>\n",
       "      <td>1</td>\n",
       "    </tr>\n",
       "    <tr>\n",
       "      <th>3</th>\n",
       "      <td>6</td>\n",
       "      <td>NaN</td>\n",
       "      <td>NaN</td>\n",
       "      <td>13,000 people receive #wildfires evacuation or...</td>\n",
       "      <td>1</td>\n",
       "    </tr>\n",
       "    <tr>\n",
       "      <th>4</th>\n",
       "      <td>7</td>\n",
       "      <td>NaN</td>\n",
       "      <td>NaN</td>\n",
       "      <td>Just got sent this photo from Ruby #Alaska as ...</td>\n",
       "      <td>1</td>\n",
       "    </tr>\n",
       "  </tbody>\n",
       "</table>\n",
       "</div>"
      ],
      "text/plain": [
       "   id keyword location                                               text  \\\n",
       "0   1     NaN      NaN  Our Deeds are the Reason of this #earthquake M...   \n",
       "1   4     NaN      NaN             Forest fire near La Ronge Sask. Canada   \n",
       "2   5     NaN      NaN  All residents asked to 'shelter in place' are ...   \n",
       "3   6     NaN      NaN  13,000 people receive #wildfires evacuation or...   \n",
       "4   7     NaN      NaN  Just got sent this photo from Ruby #Alaska as ...   \n",
       "\n",
       "   target  \n",
       "0       1  \n",
       "1       1  \n",
       "2       1  \n",
       "3       1  \n",
       "4       1  "
      ]
     },
     "execution_count": 50,
     "metadata": {},
     "output_type": "execute_result"
    }
   ],
   "source": [
    "train_data.head()"
   ]
  },
  {
   "cell_type": "code",
   "execution_count": 4,
   "metadata": {},
   "outputs": [
    {
     "data": {
      "text/html": [
       "<div>\n",
       "<style scoped>\n",
       "    .dataframe tbody tr th:only-of-type {\n",
       "        vertical-align: middle;\n",
       "    }\n",
       "\n",
       "    .dataframe tbody tr th {\n",
       "        vertical-align: top;\n",
       "    }\n",
       "\n",
       "    .dataframe thead th {\n",
       "        text-align: right;\n",
       "    }\n",
       "</style>\n",
       "<table border=\"1\" class=\"dataframe\">\n",
       "  <thead>\n",
       "    <tr style=\"text-align: right;\">\n",
       "      <th></th>\n",
       "      <th>id</th>\n",
       "      <th>keyword</th>\n",
       "      <th>location</th>\n",
       "      <th>text</th>\n",
       "    </tr>\n",
       "  </thead>\n",
       "  <tbody>\n",
       "    <tr>\n",
       "      <th>0</th>\n",
       "      <td>0</td>\n",
       "      <td>NaN</td>\n",
       "      <td>NaN</td>\n",
       "      <td>Just happened a terrible car crash</td>\n",
       "    </tr>\n",
       "    <tr>\n",
       "      <th>1</th>\n",
       "      <td>2</td>\n",
       "      <td>NaN</td>\n",
       "      <td>NaN</td>\n",
       "      <td>Heard about #earthquake is different cities, s...</td>\n",
       "    </tr>\n",
       "    <tr>\n",
       "      <th>2</th>\n",
       "      <td>3</td>\n",
       "      <td>NaN</td>\n",
       "      <td>NaN</td>\n",
       "      <td>there is a forest fire at spot pond, geese are...</td>\n",
       "    </tr>\n",
       "    <tr>\n",
       "      <th>3</th>\n",
       "      <td>9</td>\n",
       "      <td>NaN</td>\n",
       "      <td>NaN</td>\n",
       "      <td>Apocalypse lighting. #Spokane #wildfires</td>\n",
       "    </tr>\n",
       "    <tr>\n",
       "      <th>4</th>\n",
       "      <td>11</td>\n",
       "      <td>NaN</td>\n",
       "      <td>NaN</td>\n",
       "      <td>Typhoon Soudelor kills 28 in China and Taiwan</td>\n",
       "    </tr>\n",
       "  </tbody>\n",
       "</table>\n",
       "</div>"
      ],
      "text/plain": [
       "   id keyword location                                               text\n",
       "0   0     NaN      NaN                 Just happened a terrible car crash\n",
       "1   2     NaN      NaN  Heard about #earthquake is different cities, s...\n",
       "2   3     NaN      NaN  there is a forest fire at spot pond, geese are...\n",
       "3   9     NaN      NaN           Apocalypse lighting. #Spokane #wildfires\n",
       "4  11     NaN      NaN      Typhoon Soudelor kills 28 in China and Taiwan"
      ]
     },
     "execution_count": 4,
     "metadata": {},
     "output_type": "execute_result"
    }
   ],
   "source": [
    "test_data.head()"
   ]
  },
  {
   "cell_type": "code",
   "execution_count": 35,
   "metadata": {},
   "outputs": [],
   "source": [
    "text_data = train_data['text'].to_list()\n",
    "labels_data = train_data['target'].to_list()\n",
    "\n",
    "train_tweets = text_data[:int(len(text_data)*0.8)]\n",
    "train_labels = labels_data[:int(len(labels_data)*0.8)]\n",
    "\n",
    "val_tweets = text_data[int(len(text_data)*0.8):]\n",
    "val_labels = labels_data[int(len(labels_data)*0.8):]\n",
    "\n",
    "test_tweets = test_data['text'].to_list()"
   ]
  },
  {
   "cell_type": "code",
   "execution_count": 6,
   "metadata": {},
   "outputs": [],
   "source": [
    "vocab_size = 10000\n",
    "embedding_dim = 16\n",
    "max_length = 80\n",
    "trunc_type = 'post'\n",
    "oov_token = '<OOV>'"
   ]
  },
  {
   "cell_type": "code",
   "execution_count": 40,
   "metadata": {},
   "outputs": [],
   "source": [
    "tokenizer = Tokenizer(num_words=vocab_size, oov_token=oov_token)\n",
    "tokenizer.fit_on_texts(train_tweets)\n",
    "\n",
    "sequences = tokenizer.texts_to_sequences(train_tweets)\n",
    "padded = pad_sequences(sequences, maxlen=max_length, truncating=trunc_type)\n",
    "\n",
    "val_sequences = tokenizer.texts_to_sequences(val_tweets)\n",
    "val_padded = pad_sequences(val_sequences, maxlen=max_length, truncating=trunc_type)\n",
    "\n",
    "test_sequences = tokenizer.texts_to_sequences(test_tweets)\n",
    "padded_test = pad_sequences(test_sequences, maxlen=max_length)"
   ]
  },
  {
   "cell_type": "code",
   "execution_count": 41,
   "metadata": {},
   "outputs": [],
   "source": [
    "model = tf.keras.Sequential([\n",
    "    tf.keras.layers.Embedding(vocab_size, embedding_dim, input_length=max_length),\n",
    "    tf.keras.layers.Flatten(),\n",
    "    tf.keras.layers.Dense(6, activation='relu'),\n",
    "    tf.keras.layers.Dense(1, activation='sigmoid')\n",
    "])"
   ]
  },
  {
   "cell_type": "code",
   "execution_count": 42,
   "metadata": {},
   "outputs": [],
   "source": [
    "model.compile(loss='binary_crossentropy', optimizer='adam', metrics=['accuracy'])"
   ]
  },
  {
   "cell_type": "code",
   "execution_count": 43,
   "metadata": {},
   "outputs": [
    {
     "name": "stdout",
     "output_type": "stream",
     "text": [
      "Model: \"sequential_9\"\n",
      "_________________________________________________________________\n",
      "Layer (type)                 Output Shape              Param #   \n",
      "=================================================================\n",
      "embedding_10 (Embedding)     (None, 80, 16)            160000    \n",
      "_________________________________________________________________\n",
      "flatten_5 (Flatten)          (None, 1280)              0         \n",
      "_________________________________________________________________\n",
      "dense_17 (Dense)             (None, 6)                 7686      \n",
      "_________________________________________________________________\n",
      "dense_18 (Dense)             (None, 1)                 7         \n",
      "=================================================================\n",
      "Total params: 167,693\n",
      "Trainable params: 167,693\n",
      "Non-trainable params: 0\n",
      "_________________________________________________________________\n"
     ]
    }
   ],
   "source": [
    "model.summary()"
   ]
  },
  {
   "cell_type": "code",
   "execution_count": 45,
   "metadata": {
    "scrolled": false
   },
   "outputs": [
    {
     "name": "stdout",
     "output_type": "stream",
     "text": [
      "Train on 6090 samples, validate on 1523 samples\n",
      "Epoch 1/10\n",
      "6090/6090 [==============================] - 0s 80us/sample - loss: 0.6491 - accuracy: 0.6107 - val_loss: 0.6311 - val_accuracy: 0.6441\n",
      "Epoch 2/10\n",
      "6090/6090 [==============================] - 0s 51us/sample - loss: 0.5159 - accuracy: 0.7836 - val_loss: 0.5011 - val_accuracy: 0.7689\n",
      "Epoch 3/10\n",
      "6090/6090 [==============================] - 0s 52us/sample - loss: 0.2920 - accuracy: 0.8946 - val_loss: 0.5176 - val_accuracy: 0.7663\n",
      "Epoch 4/10\n",
      "6090/6090 [==============================] - 0s 47us/sample - loss: 0.1749 - accuracy: 0.9440 - val_loss: 0.4813 - val_accuracy: 0.7859\n",
      "Epoch 5/10\n",
      "6090/6090 [==============================] - 0s 47us/sample - loss: 0.1121 - accuracy: 0.9670 - val_loss: 0.4999 - val_accuracy: 0.7846\n",
      "Epoch 6/10\n",
      "6090/6090 [==============================] - 0s 47us/sample - loss: 0.0809 - accuracy: 0.9759 - val_loss: 0.5176 - val_accuracy: 0.7722\n",
      "Epoch 7/10\n",
      "6090/6090 [==============================] - 0s 48us/sample - loss: 0.0661 - accuracy: 0.9790 - val_loss: 0.5399 - val_accuracy: 0.7708\n",
      "Epoch 8/10\n",
      "6090/6090 [==============================] - 0s 49us/sample - loss: 0.0581 - accuracy: 0.9791 - val_loss: 0.5623 - val_accuracy: 0.7781\n",
      "Epoch 9/10\n",
      "6090/6090 [==============================] - 0s 49us/sample - loss: 0.0541 - accuracy: 0.9798 - val_loss: 0.5689 - val_accuracy: 0.7630\n",
      "Epoch 10/10\n",
      "6090/6090 [==============================] - 0s 49us/sample - loss: 0.0493 - accuracy: 0.9810 - val_loss: 0.5916 - val_accuracy: 0.7754\n"
     ]
    },
    {
     "data": {
      "text/plain": [
       "<tensorflow.python.keras.callbacks.History at 0x7eff2cdb97f0>"
      ]
     },
     "execution_count": 45,
     "metadata": {},
     "output_type": "execute_result"
    }
   ],
   "source": [
    "num_epochs = 10\n",
    "model.fit(padded, train_labels, epochs=num_epochs, validation_data=(val_padded, val_labels))"
   ]
  },
  {
   "cell_type": "code",
   "execution_count": 60,
   "metadata": {},
   "outputs": [],
   "source": [
    "predicted_classes = model.predict_classes(padded_test)"
   ]
  },
  {
   "cell_type": "code",
   "execution_count": 65,
   "metadata": {},
   "outputs": [],
   "source": [
    "first_result = pd.DataFrame()\n",
    "first_result['id'] = test_data['id']\n",
    "first_result['target'] = predicted_classes"
   ]
  },
  {
   "cell_type": "code",
   "execution_count": 69,
   "metadata": {},
   "outputs": [],
   "source": [
    "first_result.to_csv('first_results.csv', index=False)"
   ]
  },
  {
   "cell_type": "markdown",
   "metadata": {},
   "source": [
    "Model 2"
   ]
  },
  {
   "cell_type": "code",
   "execution_count": 12,
   "metadata": {},
   "outputs": [],
   "source": [
    "model = tf.keras.Sequential([\n",
    "    tf.keras.layers.Embedding(vocab_size, embedding_dim, input_length=max_length),\n",
    "    tf.keras.layers.GlobalAveragePooling1D(),\n",
    "#     tf.keras.layers.Dense(32, activation='relu'),\n",
    "    tf.keras.layers.Dense(1, activation='sigmoid')\n",
    "])\n",
    "model.compile(loss='binary_crossentropy', optimizer='adam', metrics=['accuracy'])"
   ]
  },
  {
   "cell_type": "code",
   "execution_count": 77,
   "metadata": {},
   "outputs": [
    {
     "name": "stdout",
     "output_type": "stream",
     "text": [
      "Train on 7613 samples\n",
      "Epoch 1/10\n",
      "7613/7613 [==============================] - 0s 58us/sample - loss: 0.6753 - accuracy: 0.5707\n",
      "Epoch 2/10\n",
      "7613/7613 [==============================] - 0s 45us/sample - loss: 0.5876 - accuracy: 0.7112\n",
      "Epoch 3/10\n",
      "7613/7613 [==============================] - 0s 45us/sample - loss: 0.4586 - accuracy: 0.8049\n",
      "Epoch 4/10\n",
      "7613/7613 [==============================] - 0s 45us/sample - loss: 0.3801 - accuracy: 0.8479\n",
      "Epoch 5/10\n",
      "7613/7613 [==============================] - 0s 45us/sample - loss: 0.3320 - accuracy: 0.8663\n",
      "Epoch 6/10\n",
      "7613/7613 [==============================] - 0s 44us/sample - loss: 0.2942 - accuracy: 0.8840\n",
      "Epoch 7/10\n",
      "7613/7613 [==============================] - 0s 44us/sample - loss: 0.2655 - accuracy: 0.8961\n",
      "Epoch 8/10\n",
      "7613/7613 [==============================] - 0s 44us/sample - loss: 0.2388 - accuracy: 0.9082\n",
      "Epoch 9/10\n",
      "7613/7613 [==============================] - 0s 43us/sample - loss: 0.2165 - accuracy: 0.9172\n",
      "Epoch 10/10\n",
      "7613/7613 [==============================] - 0s 45us/sample - loss: 0.1979 - accuracy: 0.9251\n"
     ]
    },
    {
     "data": {
      "text/plain": [
       "<tensorflow.python.keras.callbacks.History at 0x7fe4c7241978>"
      ]
     },
     "execution_count": 77,
     "metadata": {},
     "output_type": "execute_result"
    }
   ],
   "source": [
    "num_epochs = 10\n",
    "model.fit(padded, train_labels, epochs=num_epochs)"
   ]
  },
  {
   "cell_type": "markdown",
   "metadata": {},
   "source": [
    "### Now Trying with LSTM layer"
   ]
  },
  {
   "cell_type": "code",
   "execution_count": 14,
   "metadata": {},
   "outputs": [],
   "source": [
    "model = tf.keras.Sequential([\n",
    "    tf.keras.layers.Embedding(vocab_size, embedding_dim, input_length=max_length),\n",
    "    tf.keras.layers.Bidirectional(tf.keras.layers.LSTM(embedding_dim)),\n",
    "#     tf.keras.layers.Flatten(),\n",
    "    tf.keras.layers.Dense(6, activation='relu'),\n",
    "    tf.keras.layers.Dense(1, activation='sigmoid')\n",
    "])\n",
    "model.compile(loss='binary_crossentropy', optimizer='adam', metrics=['accuracy'])"
   ]
  },
  {
   "cell_type": "code",
   "execution_count": 15,
   "metadata": {
    "scrolled": false
   },
   "outputs": [
    {
     "name": "stdout",
     "output_type": "stream",
     "text": [
      "Train on 7613 samples\n",
      "Epoch 1/10\n",
      "7613/7613 [==============================] - 7s 889us/sample - loss: 0.5895 - accuracy: 0.6816\n",
      "Epoch 2/10\n",
      "7613/7613 [==============================] - 6s 832us/sample - loss: 0.3646 - accuracy: 0.8482\n",
      "Epoch 3/10\n",
      "7613/7613 [==============================] - 6s 815us/sample - loss: 0.2678 - accuracy: 0.8968\n",
      "Epoch 4/10\n",
      "7613/7613 [==============================] - 6s 820us/sample - loss: 0.2080 - accuracy: 0.9257\n",
      "Epoch 5/10\n",
      "7613/7613 [==============================] - 6s 816us/sample - loss: 0.1669 - accuracy: 0.9433\n",
      "Epoch 6/10\n",
      "7613/7613 [==============================] - 6s 819us/sample - loss: 0.1350 - accuracy: 0.9543\n",
      "Epoch 7/10\n",
      "7613/7613 [==============================] - 6s 824us/sample - loss: 0.1160 - accuracy: 0.9602\n",
      "Epoch 8/10\n",
      "7613/7613 [==============================] - 6s 842us/sample - loss: 0.1028 - accuracy: 0.9648\n",
      "Epoch 9/10\n",
      "7613/7613 [==============================] - 6s 828us/sample - loss: 0.0870 - accuracy: 0.9703\n",
      "Epoch 10/10\n",
      "7613/7613 [==============================] - 6s 840us/sample - loss: 0.0751 - accuracy: 0.9745\n"
     ]
    },
    {
     "data": {
      "text/plain": [
       "<tensorflow.python.keras.callbacks.History at 0x7eff9848f3c8>"
      ]
     },
     "execution_count": 15,
     "metadata": {},
     "output_type": "execute_result"
    }
   ],
   "source": [
    "num_epochs = 10\n",
    "model.fit(padded, train_labels, epochs=num_epochs)"
   ]
  },
  {
   "cell_type": "markdown",
   "metadata": {},
   "source": [
    "With flatten"
   ]
  },
  {
   "cell_type": "code",
   "execution_count": 16,
   "metadata": {},
   "outputs": [],
   "source": [
    "model = tf.keras.Sequential([\n",
    "    tf.keras.layers.Embedding(vocab_size, embedding_dim, input_length=max_length),\n",
    "    tf.keras.layers.Bidirectional(tf.keras.layers.LSTM(embedding_dim), return_sequences=True),\n",
    "    tf.keras.layers.Flatten(),\n",
    "    tf.keras.layers.Dense(6, activation='relu'),\n",
    "    tf.keras.layers.Dense(1, activation='sigmoid')\n",
    "])\n",
    "model.compile(loss='binary_crossentropy', optimizer='adam', metrics=['accuracy'])"
   ]
  },
  {
   "cell_type": "code",
   "execution_count": 17,
   "metadata": {},
   "outputs": [
    {
     "name": "stdout",
     "output_type": "stream",
     "text": [
      "Train on 7613 samples\n",
      "Epoch 1/10\n",
      "7613/7613 [==============================] - 7s 929us/sample - loss: 0.5665 - accuracy: 0.7006\n",
      "Epoch 2/10\n",
      "7613/7613 [==============================] - 7s 864us/sample - loss: 0.3544 - accuracy: 0.8555\n",
      "Epoch 3/10\n",
      "7613/7613 [==============================] - 7s 873us/sample - loss: 0.2630 - accuracy: 0.9006\n",
      "Epoch 4/10\n",
      "7613/7613 [==============================] - 7s 884us/sample - loss: 0.2078 - accuracy: 0.9215\n",
      "Epoch 5/10\n",
      "7613/7613 [==============================] - 7s 867us/sample - loss: 0.1631 - accuracy: 0.9421\n",
      "Epoch 6/10\n",
      "7613/7613 [==============================] - 7s 856us/sample - loss: 0.1322 - accuracy: 0.9542\n",
      "Epoch 7/10\n",
      "7613/7613 [==============================] - 7s 958us/sample - loss: 0.1092 - accuracy: 0.9640\n",
      "Epoch 8/10\n",
      "7613/7613 [==============================] - 7s 859us/sample - loss: 0.0935 - accuracy: 0.9703\n",
      "Epoch 9/10\n",
      "7613/7613 [==============================] - 7s 863us/sample - loss: 0.0856 - accuracy: 0.9710\n",
      "Epoch 10/10\n",
      "7613/7613 [==============================] - 7s 868us/sample - loss: 0.0772 - accuracy: 0.9714\n"
     ]
    },
    {
     "data": {
      "text/plain": [
       "<tensorflow.python.keras.callbacks.History at 0x7eff68d57ba8>"
      ]
     },
     "execution_count": 17,
     "metadata": {},
     "output_type": "execute_result"
    }
   ],
   "source": [
    "num_epochs = 10\n",
    "model.fit(padded, train_labels, epochs=num_epochs)"
   ]
  },
  {
   "cell_type": "markdown",
   "metadata": {},
   "source": [
    "With 2 LSTM layers"
   ]
  },
  {
   "cell_type": "code",
   "execution_count": 20,
   "metadata": {},
   "outputs": [],
   "source": [
    "model = tf.keras.Sequential([\n",
    "    tf.keras.layers.Embedding(vocab_size, embedding_dim, input_length=max_length),\n",
    "    tf.keras.layers.Bidirectional(tf.keras.layers.LSTM(embedding_dim, return_sequences=True)),\n",
    "    tf.keras.layers.Bidirectional(tf.keras.layers.LSTM(int(embedding_dim/2))),\n",
    "    tf.keras.layers.Flatten(),\n",
    "    tf.keras.layers.Dense(6, activation='relu'),\n",
    "    tf.keras.layers.Dense(1, activation='sigmoid')\n",
    "])\n",
    "model.compile(loss='binary_crossentropy', optimizer='adam', metrics=['accuracy'])"
   ]
  },
  {
   "cell_type": "code",
   "execution_count": 21,
   "metadata": {},
   "outputs": [
    {
     "name": "stdout",
     "output_type": "stream",
     "text": [
      "Train on 7613 samples\n",
      "Epoch 1/10\n",
      "7613/7613 [==============================] - 12s 2ms/sample - loss: 0.6157 - accuracy: 0.6549\n",
      "Epoch 2/10\n",
      "7613/7613 [==============================] - 11s 1ms/sample - loss: 0.3836 - accuracy: 0.8432\n",
      "Epoch 3/10\n",
      "7613/7613 [==============================] - 10s 1ms/sample - loss: 0.2870 - accuracy: 0.8914\n",
      "Epoch 4/10\n",
      "7613/7613 [==============================] - 11s 1ms/sample - loss: 0.2217 - accuracy: 0.9233\n",
      "Epoch 5/10\n",
      "7613/7613 [==============================] - 11s 1ms/sample - loss: 0.1768 - accuracy: 0.9392\n",
      "Epoch 6/10\n",
      "7613/7613 [==============================] - 11s 1ms/sample - loss: 0.1406 - accuracy: 0.9532\n",
      "Epoch 7/10\n",
      "7613/7613 [==============================] - 11s 1ms/sample - loss: 0.1116 - accuracy: 0.9622\n",
      "Epoch 8/10\n",
      "7613/7613 [==============================] - 11s 1ms/sample - loss: 0.0906 - accuracy: 0.9648\n",
      "Epoch 9/10\n",
      "7613/7613 [==============================] - 12s 2ms/sample - loss: 0.0745 - accuracy: 0.9694\n",
      "Epoch 10/10\n",
      "7613/7613 [==============================] - 12s 2ms/sample - loss: 0.0653 - accuracy: 0.9731\n"
     ]
    },
    {
     "data": {
      "text/plain": [
       "<tensorflow.python.keras.callbacks.History at 0x7eff630bb7f0>"
      ]
     },
     "execution_count": 21,
     "metadata": {},
     "output_type": "execute_result"
    }
   ],
   "source": [
    "num_epochs = 10\n",
    "model.fit(padded, train_labels, epochs=num_epochs)"
   ]
  },
  {
   "cell_type": "markdown",
   "metadata": {},
   "source": [
    "With Dropout"
   ]
  },
  {
   "cell_type": "code",
   "execution_count": 47,
   "metadata": {},
   "outputs": [],
   "source": [
    "model = tf.keras.Sequential([\n",
    "    tf.keras.layers.Embedding(vocab_size, embedding_dim, input_length=max_length),\n",
    "    tf.keras.layers.Bidirectional(tf.keras.layers.LSTM(embedding_dim, return_sequences=True)),\n",
    "    tf.keras.layers.Bidirectional(tf.keras.layers.LSTM(int(embedding_dim/2))),\n",
    "#     tf.keras.layers.Flatten(),\n",
    "    tf.keras.layers.Dense(64, activation='relu'),\n",
    "    tf.keras.layers.Dropout(0.5),\n",
    "    tf.keras.layers.Dense(1, activation='sigmoid')\n",
    "])\n",
    "model.compile(loss='binary_crossentropy', optimizer='adam', metrics=['accuracy'])"
   ]
  },
  {
   "cell_type": "code",
   "execution_count": 27,
   "metadata": {},
   "outputs": [
    {
     "name": "stdout",
     "output_type": "stream",
     "text": [
      "Train on 7613 samples\n",
      "Epoch 1/10\n",
      "7613/7613 [==============================] - 13s 2ms/sample - loss: 0.5831 - accuracy: 0.6929\n",
      "Epoch 2/10\n",
      "7613/7613 [==============================] - 11s 1ms/sample - loss: 0.3723 - accuracy: 0.8530\n",
      "Epoch 3/10\n",
      "7613/7613 [==============================] - 11s 1ms/sample - loss: 0.2818 - accuracy: 0.9011\n",
      "Epoch 4/10\n",
      "7613/7613 [==============================] - 12s 2ms/sample - loss: 0.2265 - accuracy: 0.9226\n",
      "Epoch 5/10\n",
      "7613/7613 [==============================] - 13s 2ms/sample - loss: 0.1841 - accuracy: 0.9426\n",
      "Epoch 6/10\n",
      "7613/7613 [==============================] - 11s 1ms/sample - loss: 0.1586 - accuracy: 0.9507\n",
      "Epoch 7/10\n",
      "7613/7613 [==============================] - 11s 1ms/sample - loss: 0.1378 - accuracy: 0.9561\n",
      "Epoch 8/10\n",
      "7613/7613 [==============================] - 11s 1ms/sample - loss: 0.1201 - accuracy: 0.9640\n",
      "Epoch 9/10\n",
      "7613/7613 [==============================] - 11s 1ms/sample - loss: 0.1019 - accuracy: 0.9685\n",
      "Epoch 10/10\n",
      "7613/7613 [==============================] - 11s 1ms/sample - loss: 0.0865 - accuracy: 0.9723\n"
     ]
    },
    {
     "data": {
      "text/plain": [
       "<tensorflow.python.keras.callbacks.History at 0x7eff322d5438>"
      ]
     },
     "execution_count": 27,
     "metadata": {},
     "output_type": "execute_result"
    }
   ],
   "source": [
    "num_epochs = 10\n",
    "model.fit(padded, train_labels, epochs=num_epochs, validation_data=(val_padded, val_labels))"
   ]
  },
  {
   "cell_type": "code",
   "execution_count": 48,
   "metadata": {},
   "outputs": [
    {
     "name": "stdout",
     "output_type": "stream",
     "text": [
      "Train on 6090 samples, validate on 1523 samples\n",
      "Epoch 1/10\n",
      "6090/6090 [==============================] - 12s 2ms/sample - loss: 0.5925 - accuracy: 0.6882 - val_loss: 0.4701 - val_accuracy: 0.7873\n",
      "Epoch 2/10\n",
      "6090/6090 [==============================] - 10s 2ms/sample - loss: 0.3734 - accuracy: 0.8517 - val_loss: 0.4531 - val_accuracy: 0.7938\n",
      "Epoch 3/10\n",
      "6090/6090 [==============================] - 10s 2ms/sample - loss: 0.2709 - accuracy: 0.9036 - val_loss: 0.5314 - val_accuracy: 0.7820\n",
      "Epoch 4/10\n",
      "6090/6090 [==============================] - 10s 2ms/sample - loss: 0.2058 - accuracy: 0.9307 - val_loss: 0.5784 - val_accuracy: 0.7774\n",
      "Epoch 5/10\n",
      "6090/6090 [==============================] - 10s 2ms/sample - loss: 0.1589 - accuracy: 0.9507 - val_loss: 0.6028 - val_accuracy: 0.7695\n",
      "Epoch 6/10\n",
      "6090/6090 [==============================] - 10s 2ms/sample - loss: 0.1355 - accuracy: 0.9589 - val_loss: 0.6755 - val_accuracy: 0.7564\n",
      "Epoch 7/10\n",
      "6090/6090 [==============================] - 10s 2ms/sample - loss: 0.1100 - accuracy: 0.9667 - val_loss: 0.7964 - val_accuracy: 0.7584\n",
      "Epoch 8/10\n",
      "6090/6090 [==============================] - 9s 2ms/sample - loss: 0.0998 - accuracy: 0.9693 - val_loss: 0.7767 - val_accuracy: 0.7584\n",
      "Epoch 9/10\n",
      "6090/6090 [==============================] - 10s 2ms/sample - loss: 0.0839 - accuracy: 0.9747 - val_loss: 0.9193 - val_accuracy: 0.7505\n",
      "Epoch 10/10\n",
      "6090/6090 [==============================] - 10s 2ms/sample - loss: 0.0723 - accuracy: 0.9755 - val_loss: 0.9407 - val_accuracy: 0.7525\n"
     ]
    },
    {
     "data": {
      "text/plain": [
       "<tensorflow.python.keras.callbacks.History at 0x7eff277c0a20>"
      ]
     },
     "execution_count": 48,
     "metadata": {},
     "output_type": "execute_result"
    }
   ],
   "source": [
    "num_epochs = 10\n",
    "model.fit(padded, train_labels, epochs=num_epochs, validation_data=(val_padded, val_labels))"
   ]
  },
  {
   "cell_type": "markdown",
   "metadata": {},
   "source": [
    "The results are getting worse. So the first way to make the NN is the best for now.  \n",
    "Next Step:  \n",
    "- Clean data\n",
    "- Integrate the other columns to the data"
   ]
  },
  {
   "cell_type": "code",
   "execution_count": null,
   "metadata": {},
   "outputs": [],
   "source": []
  },
  {
   "cell_type": "code",
   "execution_count": null,
   "metadata": {},
   "outputs": [],
   "source": []
  },
  {
   "cell_type": "code",
   "execution_count": null,
   "metadata": {},
   "outputs": [],
   "source": []
  },
  {
   "cell_type": "code",
   "execution_count": null,
   "metadata": {},
   "outputs": [],
   "source": []
  }
 ],
 "metadata": {
  "kernelspec": {
   "display_name": "Python 3",
   "language": "python",
   "name": "python3"
  },
  "language_info": {
   "codemirror_mode": {
    "name": "ipython",
    "version": 3
   },
   "file_extension": ".py",
   "mimetype": "text/x-python",
   "name": "python",
   "nbconvert_exporter": "python",
   "pygments_lexer": "ipython3",
   "version": "3.7.3"
  }
 },
 "nbformat": 4,
 "nbformat_minor": 2
}
